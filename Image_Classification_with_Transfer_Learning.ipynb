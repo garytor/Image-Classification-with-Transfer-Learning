{
 "cells": [
  {
   "cell_type": "markdown",
   "metadata": {
    "id": "_AZy13TMPUx_"
   },
   "source": [
    "# Image Classification with Transfer Learning\n",
    "Built by: Gary Sampson, DatumSam AI"
   ]
  },
  {
   "cell_type": "code",
   "execution_count": 1,
   "metadata": {
    "id": "AxF67RF4O84W"
   },
   "outputs": [],
   "source": [
    "import warnings\n",
    "warnings.filterwarnings(\"ignore\")\n",
    "\n",
    "import numpy as np\n",
    "import os\n",
    "import pathlib\n",
    "from matplotlib import pyplot as plt\n",
    "import pandas as pd\n",
    "import tensorflow as tf\n",
    "import tensorflow_datasets as tfds\n",
    "tf.random.set_seed(42)\n",
    "np.random.seed(123)\n",
    "\n",
    "from sklearn.utils import class_weight\n",
    "from sklearn.metrics import confusion_matrix\n",
    "from sklearn.metrics import precision_score\n",
    "from sklearn.metrics import recall_score\n",
    "from sklearn.metrics import accuracy_score"
   ]
  },
  {
   "cell_type": "code",
   "execution_count": 2,
   "metadata": {
    "id": "h2o2KBewRT97"
   },
   "outputs": [
    {
     "name": "stdout",
     "output_type": "stream",
     "text": [
      "Downloading data from http://download.tensorflow.org/example_images/flower_photos.tgz\n",
      "228813984/228813984 [==============================] - 6s 0us/step\n"
     ]
    }
   ],
   "source": [
    "# load image data from URL\n",
    "import pathlib\n",
    "dataset_url = \"http://download.tensorflow.org/example_images/flower_photos.tgz\" \n",
    "data_dir = tf.keras.utils.get_file('flower_photos', origin=dataset_url, untar=True, cache_subdir='C:/Users/garys/Documents/Github')\n",
    "data_dir = pathlib.Path(data_dir)"
   ]
  },
  {
   "cell_type": "code",
   "execution_count": 4,
   "metadata": {
    "id": "6voc2bxlAZKp"
   },
   "outputs": [],
   "source": [
    "# Split the flowers_photos folder into train, validate, test folders\n",
    "#!pip install split-folders "
   ]
  },
  {
   "cell_type": "code",
   "execution_count": 3,
   "metadata": {
    "id": "VrvMhdabMPkR"
   },
   "outputs": [
    {
     "name": "stderr",
     "output_type": "stream",
     "text": [
      "Copying files: 3670 files [00:15, 241.22 files/s]\n"
     ]
    }
   ],
   "source": [
    "#import splitfolders\n",
    "\n",
    "#splitfolders.ratio('C:/Users/garys/Documents/Github/flower_photos',\n",
    "                   #output='C:/Users/garys/Documents/Github/flower_photos', seed=123, ratio=(0.75, 0.15, 0.10))"
   ]
  },
  {
   "cell_type": "code",
   "execution_count": 4,
   "metadata": {
    "id": "Mn8GBf1NQ3Mn"
   },
   "outputs": [],
   "source": [
    "# Resize the images to 150x150 pixels\n",
    "\n",
    "batch_size = 32\n",
    "image_h = 150\n",
    "image_w = 150"
   ]
  },
  {
   "cell_type": "code",
   "execution_count": 5,
   "metadata": {
    "id": "WjvV-lcZDfAy"
   },
   "outputs": [],
   "source": [
    "# Perform data augmentation since the flower dataset is small\n",
    "from tensorflow.keras.preprocessing.image import ImageDataGenerator\n",
    "\n",
    "# Create a train ImageDataGenerator object \n",
    "train_datagen = ImageDataGenerator(\n",
    "      rescale=1./255,\n",
    "      rotation_range=30,\n",
    "      width_shift_range=0.1,\n",
    "      height_shift_range=0.1,\n",
    "      shear_range=0.2,\n",
    "      zoom_range=0.2,\n",
    "      horizontal_flip=True,\n",
    "      vertical_flip=True)"
   ]
  },
  {
   "cell_type": "code",
   "execution_count": 6,
   "metadata": {
    "colab": {
     "base_uri": "https://localhost:8080/"
    },
    "id": "F9e2CBzCl11u",
    "outputId": "0e15eabb-255d-4319-f2b4-aac8bdd449e2"
   },
   "outputs": [
    {
     "name": "stdout",
     "output_type": "stream",
     "text": [
      "Found 2750 images belonging to 5 classes.\n"
     ]
    }
   ],
   "source": [
    "# Load and iterate train dataset\n",
    "train_generator = train_datagen.flow_from_directory(\n",
    "  'C:/Users/garys/Documents/Github/flower_photos/train/',\n",
    "  target_size=(image_h, image_w),\n",
    "  batch_size=batch_size,\n",
    "  shuffle = True,\n",
    "  seed=123,\n",
    "  class_mode='sparse')"
   ]
  },
  {
   "cell_type": "code",
   "execution_count": 7,
   "metadata": {},
   "outputs": [
    {
     "data": {
      "text/plain": [
       "{'daisy': 0, 'dandelion': 1, 'roses': 2, 'sunflowers': 3, 'tulips': 4}"
      ]
     },
     "execution_count": 7,
     "metadata": {},
     "output_type": "execute_result"
    }
   ],
   "source": [
    "train_generator.class_indices"
   ]
  },
  {
   "cell_type": "code",
   "execution_count": 8,
   "metadata": {},
   "outputs": [
    {
     "data": {
      "text/plain": [
       "array([0, 0, 0, ..., 4, 4, 4])"
      ]
     },
     "execution_count": 8,
     "metadata": {},
     "output_type": "execute_result"
    }
   ],
   "source": [
    "train_labels = train_generator.classes\n",
    "train_labels"
   ]
  },
  {
   "cell_type": "code",
   "execution_count": 9,
   "metadata": {},
   "outputs": [],
   "source": [
    "from sklearn.utils.class_weight import compute_class_weight\n",
    "from sklearn.preprocessing import MultiLabelBinarizer\n",
    "\n",
    "# reference: https://towardsdatascience.com/dealing-with-imbalanced-data-in-tensorflow-class-weights-60f876911f99\n",
    "def generate_class_weights(class_series, multi_class=True, one_hot_encoded=False):\n",
    "  \"\"\"\n",
    "  Method to generate class weights given a set of multi-class or multi-label labels, both one-hot-encoded or not.\n",
    "  Some examples of different formats of class_series and their outputs are:\n",
    "    - generate_class_weights(['mango', 'lemon', 'banana', 'mango'], multi_class=True, one_hot_encoded=False)\n",
    "    {'banana': 1.3333333333333333, 'lemon': 1.3333333333333333, 'mango': 0.6666666666666666}\n",
    "    - generate_class_weights([[1, 0, 0], [0, 1, 0], [0, 0, 1], [1, 0, 0]], multi_class=True, one_hot_encoded=True)\n",
    "    {0: 0.6666666666666666, 1: 1.3333333333333333, 2: 1.3333333333333333}\n",
    "    - generate_class_weights([['mango', 'lemon'], ['mango'], ['lemon', 'banana'], ['lemon']], multi_class=False, one_hot_encoded=False)\n",
    "    {'banana': 1.3333333333333333, 'lemon': 0.4444444444444444, 'mango': 0.6666666666666666}\n",
    "    - generate_class_weights([[0, 1, 1], [0, 0, 1], [1, 1, 0], [0, 1, 0]], multi_class=False, one_hot_encoded=True)\n",
    "    {0: 1.3333333333333333, 1: 0.4444444444444444, 2: 0.6666666666666666}\n",
    "  The output is a dictionary in the format { class_label: class_weight }. In case the input is one hot encoded, the class_label would be index\n",
    "  of appareance of the label when the dataset was processed. \n",
    "  In multi_class this is np.unique(class_series) and in multi-label np.unique(np.concatenate(class_series)).\n",
    "  Author: Angel Igareta (angel@igareta.com)\n",
    "  \"\"\"\n",
    "  if multi_class:\n",
    "    # If class is one hot encoded, transform to categorical labels to use compute_class_weight   \n",
    "    if one_hot_encoded:\n",
    "      class_series = np.argmax(class_series, axis=1)\n",
    "  \n",
    "    # Compute class weights with sklearn method\n",
    "    class_labels = np.unique(class_series)\n",
    "    class_weights = compute_class_weight(class_weight='balanced', classes=class_labels, y=class_series)\n",
    "    return dict(zip(class_labels, class_weights))\n",
    "  else:\n",
    "    # It is neccessary that the multi-label values are one-hot encoded\n",
    "    mlb = None\n",
    "    if not one_hot_encoded:\n",
    "      mlb = MultiLabelBinarizer()\n",
    "      class_series = mlb.fit_transform(class_series)\n",
    "\n",
    "    n_samples = len(class_series)\n",
    "    n_classes = len(class_series[0])\n",
    "\n",
    "    # Count each class frequency\n",
    "    class_count = [0] * n_classes\n",
    "    for classes in class_series:\n",
    "        for index in range(n_classes):\n",
    "            if classes[index] != 0:\n",
    "                class_count[index] += 1\n",
    "    \n",
    "    # Compute class weights using balanced method\n",
    "    class_weights = [n_samples / (n_classes * freq) if freq > 0 else 1 for freq in class_count]\n",
    "    class_labels = range(len(class_weights)) if mlb is None else mlb.classes_\n",
    "    return dict(zip(class_labels, class_weights))"
   ]
  },
  {
   "cell_type": "code",
   "execution_count": 10,
   "metadata": {},
   "outputs": [
    {
     "data": {
      "text/plain": [
       "{0: 1.160337552742616,\n",
       " 1: 0.8172362555720654,\n",
       " 2: 1.1458333333333333,\n",
       " 3: 1.049618320610687,\n",
       " 4: 0.9181969949916527}"
      ]
     },
     "execution_count": 10,
     "metadata": {},
     "output_type": "execute_result"
    }
   ],
   "source": [
    "class_weights = generate_class_weights(train_labels)\n",
    "class_weights"
   ]
  },
  {
   "cell_type": "code",
   "execution_count": 11,
   "metadata": {
    "colab": {
     "base_uri": "https://localhost:8080/"
    },
    "id": "_6e5QNQ-0vt4",
    "outputId": "454a7ca1-d0f8-46f1-9144-487715ba926c"
   },
   "outputs": [
    {
     "name": "stdout",
     "output_type": "stream",
     "text": [
      "Found 547 images belonging to 5 classes.\n"
     ]
    }
   ],
   "source": [
    "# Load and iterate validation dataset\n",
    "val_datagen = ImageDataGenerator(rescale=1./255)\n",
    "val_generator = val_datagen.flow_from_directory(\n",
    "  'C:/Users/garys/Documents/Github/flower_photos/val/',\n",
    "  target_size=(image_h, image_w),\n",
    "  batch_size=batch_size,\n",
    "  shuffle = True,\n",
    "  seed=123,\n",
    "  class_mode='sparse')"
   ]
  },
  {
   "cell_type": "code",
   "execution_count": 12,
   "metadata": {
    "colab": {
     "base_uri": "https://localhost:8080/"
    },
    "id": "oBnHSc8GFgiw",
    "outputId": "8497a163-ece5-45a2-e242-2c8711b5f5db"
   },
   "outputs": [
    {
     "name": "stdout",
     "output_type": "stream",
     "text": [
      "Found 373 images belonging to 5 classes.\n"
     ]
    }
   ],
   "source": [
    "# Load and iterate test dataset\n",
    "test_datagen = ImageDataGenerator(rescale=1./255)\n",
    "test_generator = test_datagen.flow_from_directory(\n",
    "  'C:/Users/garys/Documents/Github/flower_photos/test/',\n",
    "  target_size=(image_h, image_w),\n",
    "  batch_size=batch_size,\n",
    "  seed=123,\n",
    "  shuffle = False,\n",
    "  class_mode='sparse')"
   ]
  },
  {
   "cell_type": "code",
   "execution_count": 13,
   "metadata": {
    "colab": {
     "base_uri": "https://localhost:8080/"
    },
    "id": "YPM605pt0Arw",
    "outputId": "4bd1349f-cd5f-4e6f-8f10-74a9a22f0bcc"
   },
   "outputs": [
    {
     "name": "stdout",
     "output_type": "stream",
     "text": [
      "Model: \"vgg16\"\n",
      "_________________________________________________________________\n",
      " Layer (type)                Output Shape              Param #   \n",
      "=================================================================\n",
      " input_1 (InputLayer)        [(None, 150, 150, 3)]     0         \n",
      "                                                                 \n",
      " block1_conv1 (Conv2D)       (None, 150, 150, 64)      1792      \n",
      "                                                                 \n",
      " block1_conv2 (Conv2D)       (None, 150, 150, 64)      36928     \n",
      "                                                                 \n",
      " block1_pool (MaxPooling2D)  (None, 75, 75, 64)        0         \n",
      "                                                                 \n",
      " block2_conv1 (Conv2D)       (None, 75, 75, 128)       73856     \n",
      "                                                                 \n",
      " block2_conv2 (Conv2D)       (None, 75, 75, 128)       147584    \n",
      "                                                                 \n",
      " block2_pool (MaxPooling2D)  (None, 37, 37, 128)       0         \n",
      "                                                                 \n",
      " block3_conv1 (Conv2D)       (None, 37, 37, 256)       295168    \n",
      "                                                                 \n",
      " block3_conv2 (Conv2D)       (None, 37, 37, 256)       590080    \n",
      "                                                                 \n",
      " block3_conv3 (Conv2D)       (None, 37, 37, 256)       590080    \n",
      "                                                                 \n",
      " block3_pool (MaxPooling2D)  (None, 18, 18, 256)       0         \n",
      "                                                                 \n",
      " block4_conv1 (Conv2D)       (None, 18, 18, 512)       1180160   \n",
      "                                                                 \n",
      " block4_conv2 (Conv2D)       (None, 18, 18, 512)       2359808   \n",
      "                                                                 \n",
      " block4_conv3 (Conv2D)       (None, 18, 18, 512)       2359808   \n",
      "                                                                 \n",
      " block4_pool (MaxPooling2D)  (None, 9, 9, 512)         0         \n",
      "                                                                 \n",
      " block5_conv1 (Conv2D)       (None, 9, 9, 512)         2359808   \n",
      "                                                                 \n",
      " block5_conv2 (Conv2D)       (None, 9, 9, 512)         2359808   \n",
      "                                                                 \n",
      " block5_conv3 (Conv2D)       (None, 9, 9, 512)         2359808   \n",
      "                                                                 \n",
      " block5_pool (MaxPooling2D)  (None, 4, 4, 512)         0         \n",
      "                                                                 \n",
      "=================================================================\n",
      "Total params: 14,714,688\n",
      "Trainable params: 14,714,688\n",
      "Non-trainable params: 0\n",
      "_________________________________________________________________\n"
     ]
    }
   ],
   "source": [
    "# Use a VGG16 model (pre-trained on ImageNet)\n",
    "# Remove the top layers (fully connected layers)\n",
    "bottom_model = tf.keras.applications.VGG16(weights = \"imagenet\", include_top=False, input_shape = (image_w, image_h, 3))\n",
    "bottom_model.summary()"
   ]
  },
  {
   "cell_type": "code",
   "execution_count": 14,
   "metadata": {
    "colab": {
     "base_uri": "https://localhost:8080/"
    },
    "id": "kEuYxesf5cWM",
    "outputId": "0388e7c7-e81c-4f90-a4e4-4a12185efd3a"
   },
   "outputs": [],
   "source": [
    "def unfreeze_top_layers(model,num_of_layers='None'):\n",
    "    # First make all the layers trainable \n",
    "    for layer in model.layers:\n",
    "        layer.trainable = True \n",
    "\n",
    "    # For freezed layers \n",
    "    if num_of_layers == 'None':\n",
    "        for layer in model.layers:\n",
    "            layer.trainable = False  # freeze all first\n",
    "    else:\n",
    "        num_of_layers = num_of_layers + 1\n",
    "        for layer in model.layers[:-num_of_layers]:\n",
    "            layer.trainable = False\n",
    "    return model"
   ]
  },
  {
   "cell_type": "code",
   "execution_count": 15,
   "metadata": {},
   "outputs": [
    {
     "name": "stdout",
     "output_type": "stream",
     "text": [
      "Model: \"vgg16\"\n",
      "_________________________________________________________________\n",
      " Layer (type)                Output Shape              Param #   \n",
      "=================================================================\n",
      " input_1 (InputLayer)        [(None, 150, 150, 3)]     0         \n",
      "                                                                 \n",
      " block1_conv1 (Conv2D)       (None, 150, 150, 64)      1792      \n",
      "                                                                 \n",
      " block1_conv2 (Conv2D)       (None, 150, 150, 64)      36928     \n",
      "                                                                 \n",
      " block1_pool (MaxPooling2D)  (None, 75, 75, 64)        0         \n",
      "                                                                 \n",
      " block2_conv1 (Conv2D)       (None, 75, 75, 128)       73856     \n",
      "                                                                 \n",
      " block2_conv2 (Conv2D)       (None, 75, 75, 128)       147584    \n",
      "                                                                 \n",
      " block2_pool (MaxPooling2D)  (None, 37, 37, 128)       0         \n",
      "                                                                 \n",
      " block3_conv1 (Conv2D)       (None, 37, 37, 256)       295168    \n",
      "                                                                 \n",
      " block3_conv2 (Conv2D)       (None, 37, 37, 256)       590080    \n",
      "                                                                 \n",
      " block3_conv3 (Conv2D)       (None, 37, 37, 256)       590080    \n",
      "                                                                 \n",
      " block3_pool (MaxPooling2D)  (None, 18, 18, 256)       0         \n",
      "                                                                 \n",
      " block4_conv1 (Conv2D)       (None, 18, 18, 512)       1180160   \n",
      "                                                                 \n",
      " block4_conv2 (Conv2D)       (None, 18, 18, 512)       2359808   \n",
      "                                                                 \n",
      " block4_conv3 (Conv2D)       (None, 18, 18, 512)       2359808   \n",
      "                                                                 \n",
      " block4_pool (MaxPooling2D)  (None, 9, 9, 512)         0         \n",
      "                                                                 \n",
      " block5_conv1 (Conv2D)       (None, 9, 9, 512)         2359808   \n",
      "                                                                 \n",
      " block5_conv2 (Conv2D)       (None, 9, 9, 512)         2359808   \n",
      "                                                                 \n",
      " block5_conv3 (Conv2D)       (None, 9, 9, 512)         2359808   \n",
      "                                                                 \n",
      " block5_pool (MaxPooling2D)  (None, 4, 4, 512)         0         \n",
      "                                                                 \n",
      "=================================================================\n",
      "Total params: 14,714,688\n",
      "Trainable params: 0\n",
      "Non-trainable params: 14,714,688\n",
      "_________________________________________________________________\n"
     ]
    }
   ],
   "source": [
    "# Freeze all bottom model layers\n",
    "vgg_freeze_all = unfreeze_top_layers(bottom_model, num_of_layers='None')\n",
    "vgg_freeze_all.summary()"
   ]
  },
  {
   "cell_type": "code",
   "execution_count": 26,
   "metadata": {},
   "outputs": [],
   "source": [
    "import keras_tuner as kt"
   ]
  },
  {
   "cell_type": "code",
   "execution_count": 29,
   "metadata": {
    "colab": {
     "base_uri": "https://localhost:8080/"
    },
    "id": "s1dCQQG13q1f",
    "outputId": "4ba03359-37d7-468a-ea91-72f344e722c3"
   },
   "outputs": [],
   "source": [
    "def model_freeze(hp):\n",
    "    hp_units = hp.Int('units', min_value=128, max_value=512, step=128)\n",
    "    hp_dropout = hp.Choice('dropout', values =  [0.2, 0.4, 0.5])\n",
    "    learning_rate = hp.Choice('learning_rate', values=[1e-3, 1e-4, 1e-5])\n",
    "    optimizer = tf.keras.optimizers.Adam(learning_rate=learning_rate)\n",
    "\n",
    "    freeze_hp_model = tf.keras.Sequential()\n",
    "    vgg_freeze_all,\n",
    "    freeze_hp_model.add(tf.keras.layers.Flatten())\n",
    "    freeze_hp_model.add(tf.keras.layers.Dense(units=hp_units, activation= 'relu', kernel_initializer= \"HeNormal\" ))\n",
    "    freeze_hp_model.add(tf.keras.layers.Dropout(hp_dropout))\n",
    "    freeze_hp_model.add(tf.keras.layers.Dense(5, activation='softmax'))\n",
    "    freeze_hp_model.compile(optimizer=optimizer, loss='sparse_categorical_crossentropy', metrics=['accuracy'])\n",
    "    return freeze_hp_model"
   ]
  },
  {
   "cell_type": "code",
   "execution_count": 30,
   "metadata": {},
   "outputs": [
    {
     "name": "stdout",
     "output_type": "stream",
     "text": [
      "Trial 20 Complete [00h 04m 22s]\n",
      "val_accuracy: 0.3400365710258484\n",
      "\n",
      "Best val_accuracy So Far: 0.5246800780296326\n",
      "Total elapsed time: 02h 22m 45s\n",
      "INFO:tensorflow:Oracle triggered exit\n"
     ]
    }
   ],
   "source": [
    "# tune freeze model hyperparameters using random search\n",
    "tf.keras.backend.clear_session()\n",
    "\n",
    "random_search_model_freeze = kt.RandomSearch(\n",
    "    model_freeze, objective=\"val_accuracy\", max_trials=20, overwrite=True,\n",
    "    directory=\"image classification\", project_name=\"model_freeze_search\",seed=42)\n",
    "early_stopping_cb = tf.keras.callbacks.EarlyStopping(\n",
    "        monitor=\"val_accuracy\", patience=10, restore_best_weights=True)\n",
    "random_search_model_freeze.search(train_generator, validation_data=val_generator, epochs=300,\n",
    "                              callbacks=[early_stopping_cb], class_weight=class_weights)"
   ]
  },
  {
   "cell_type": "code",
   "execution_count": 31,
   "metadata": {},
   "outputs": [
    {
     "data": {
      "text/plain": [
       "{'units': 256, 'dropout': 0.2, 'learning_rate': 1e-05}"
      ]
     },
     "execution_count": 31,
     "metadata": {},
     "output_type": "execute_result"
    }
   ],
   "source": [
    "top3_freeze_params = random_search_model_freeze.get_best_hyperparameters(num_trials=3)\n",
    "top3_freeze_params[0].values "
   ]
  },
  {
   "cell_type": "code",
   "execution_count": 16,
   "metadata": {
    "colab": {
     "base_uri": "https://localhost:8080/"
    },
    "id": "tB_UtuReU6ep",
    "outputId": "4f8feb81-b546-440f-caf1-732e52bbd6c8"
   },
   "outputs": [
    {
     "name": "stdout",
     "output_type": "stream",
     "text": [
      "Model: \"vgg16\"\n",
      "_________________________________________________________________\n",
      " Layer (type)                Output Shape              Param #   \n",
      "=================================================================\n",
      " input_1 (InputLayer)        [(None, 150, 150, 3)]     0         \n",
      "                                                                 \n",
      " block1_conv1 (Conv2D)       (None, 150, 150, 64)      1792      \n",
      "                                                                 \n",
      " block1_conv2 (Conv2D)       (None, 150, 150, 64)      36928     \n",
      "                                                                 \n",
      " block1_pool (MaxPooling2D)  (None, 75, 75, 64)        0         \n",
      "                                                                 \n",
      " block2_conv1 (Conv2D)       (None, 75, 75, 128)       73856     \n",
      "                                                                 \n",
      " block2_conv2 (Conv2D)       (None, 75, 75, 128)       147584    \n",
      "                                                                 \n",
      " block2_pool (MaxPooling2D)  (None, 37, 37, 128)       0         \n",
      "                                                                 \n",
      " block3_conv1 (Conv2D)       (None, 37, 37, 256)       295168    \n",
      "                                                                 \n",
      " block3_conv2 (Conv2D)       (None, 37, 37, 256)       590080    \n",
      "                                                                 \n",
      " block3_conv3 (Conv2D)       (None, 37, 37, 256)       590080    \n",
      "                                                                 \n",
      " block3_pool (MaxPooling2D)  (None, 18, 18, 256)       0         \n",
      "                                                                 \n",
      " block4_conv1 (Conv2D)       (None, 18, 18, 512)       1180160   \n",
      "                                                                 \n",
      " block4_conv2 (Conv2D)       (None, 18, 18, 512)       2359808   \n",
      "                                                                 \n",
      " block4_conv3 (Conv2D)       (None, 18, 18, 512)       2359808   \n",
      "                                                                 \n",
      " block4_pool (MaxPooling2D)  (None, 9, 9, 512)         0         \n",
      "                                                                 \n",
      " block5_conv1 (Conv2D)       (None, 9, 9, 512)         2359808   \n",
      "                                                                 \n",
      " block5_conv2 (Conv2D)       (None, 9, 9, 512)         2359808   \n",
      "                                                                 \n",
      " block5_conv3 (Conv2D)       (None, 9, 9, 512)         2359808   \n",
      "                                                                 \n",
      " block5_pool (MaxPooling2D)  (None, 4, 4, 512)         0         \n",
      "                                                                 \n",
      "=================================================================\n",
      "Total params: 14,714,688\n",
      "Trainable params: 14,714,688\n",
      "Non-trainable params: 0\n",
      "_________________________________________________________________\n"
     ]
    }
   ],
   "source": [
    "# unfreeze all base model layers\n",
    "vgg_unfreeze_all = unfreeze_top_layers(bottom_model, num_of_layers=19)\n",
    "vgg_unfreeze_all.summary()"
   ]
  },
  {
   "cell_type": "code",
   "execution_count": 33,
   "metadata": {},
   "outputs": [],
   "source": [
    "def model_unfreeze(hp):\n",
    "    hp_units = hp.Int('units', min_value=128, max_value=512, step=128)\n",
    "    hp_dropout = hp.Choice('dropout', values =  [0.2, 0.4, 0.5])\n",
    "    learning_rate = hp.Choice('learning_rate', values=[1e-3, 1e-4, 1e-5])\n",
    "    optimizer = tf.keras.optimizers.Adam(learning_rate=learning_rate)\n",
    "\n",
    "    unfreeze_hp_model = tf.keras.Sequential()\n",
    "    vgg_unfreeze_all,\n",
    "    unfreeze_hp_model.add(tf.keras.layers.Flatten())\n",
    "    unfreeze_hp_model.add(tf.keras.layers.Dense(units=hp_units, activation= 'relu', kernel_initializer= \"HeNormal\" ))\n",
    "    unfreeze_hp_model.add(tf.keras.layers.Dropout(hp_dropout))\n",
    "    unfreeze_hp_model.add(tf.keras.layers.Dense(5, activation='softmax'))\n",
    "    unfreeze_hp_model.compile(optimizer=optimizer, loss='sparse_categorical_crossentropy', metrics=['accuracy'])\n",
    "    return unfreeze_hp_model"
   ]
  },
  {
   "cell_type": "code",
   "execution_count": 34,
   "metadata": {},
   "outputs": [
    {
     "name": "stdout",
     "output_type": "stream",
     "text": [
      "Trial 20 Complete [00h 03m 00s]\n",
      "val_accuracy: 0.38574039936065674\n",
      "\n",
      "Best val_accuracy So Far: 0.5393053293228149\n",
      "Total elapsed time: 02h 48m 11s\n",
      "INFO:tensorflow:Oracle triggered exit\n"
     ]
    }
   ],
   "source": [
    "# tune hyperparameters unfreeze model using random search\n",
    "tf.keras.backend.clear_session()\n",
    "\n",
    "random_search_model_unfreeze = kt.RandomSearch(\n",
    "    model_unfreeze, objective=\"val_accuracy\", max_trials=20, overwrite=True,\n",
    "    directory=\"image classification\", project_name=\"model_unfreeze_search\",seed=42)\n",
    "early_stopping_cb = tf.keras.callbacks.EarlyStopping(\n",
    "        monitor=\"val_accuracy\", patience=10, restore_best_weights=True)\n",
    "random_search_model_unfreeze.search(train_generator, validation_data=val_generator, epochs=300,\n",
    "                              callbacks=[early_stopping_cb], class_weight=class_weights)"
   ]
  },
  {
   "cell_type": "code",
   "execution_count": 35,
   "metadata": {},
   "outputs": [
    {
     "data": {
      "text/plain": [
       "{'units': 384, 'dropout': 0.2, 'learning_rate': 1e-05}"
      ]
     },
     "execution_count": 35,
     "metadata": {},
     "output_type": "execute_result"
    }
   ],
   "source": [
    "top3_unfreeze_params = random_search_model_unfreeze.get_best_hyperparameters(num_trials=3)\n",
    "top3_unfreeze_params[0].values "
   ]
  },
  {
   "cell_type": "code",
   "execution_count": 17,
   "metadata": {},
   "outputs": [],
   "source": [
    "# Build model with bottom vgg16 layers unfrozen using parameters from hyperparameter search\n",
    "tf.keras.backend.clear_session()\n",
    "\n",
    "model = tf.keras.models.Sequential([vgg_unfreeze_all,\n",
    "                                tf.keras.layers.Flatten(), \n",
    "                                tf.keras.layers.Dropout(0.2),     \n",
    "                                tf.keras.layers.Dense(384, activation= 'relu', kernel_initializer= \"HeNormal\" ),\n",
    "                                tf.keras.layers.Dense(5, activation='softmax')])"
   ]
  },
  {
   "cell_type": "code",
   "execution_count": 18,
   "metadata": {},
   "outputs": [
    {
     "name": "stdout",
     "output_type": "stream",
     "text": [
      "Epoch 1/300\n",
      "86/86 [==============================] - 33s 220ms/step - loss: 1.2454 - accuracy: 0.4796 - val_loss: 0.8103 - val_accuracy: 0.7002\n",
      "Epoch 2/300\n",
      "86/86 [==============================] - 18s 212ms/step - loss: 0.6888 - accuracy: 0.7527 - val_loss: 0.5787 - val_accuracy: 0.8007\n",
      "Epoch 3/300\n",
      "86/86 [==============================] - 19s 216ms/step - loss: 0.5121 - accuracy: 0.8065 - val_loss: 0.5264 - val_accuracy: 0.8190\n",
      "Epoch 4/300\n",
      "86/86 [==============================] - 19s 217ms/step - loss: 0.4319 - accuracy: 0.8371 - val_loss: 0.4939 - val_accuracy: 0.8300\n",
      "Epoch 5/300\n",
      "86/86 [==============================] - 19s 218ms/step - loss: 0.3960 - accuracy: 0.8531 - val_loss: 0.4271 - val_accuracy: 0.8501\n",
      "Epoch 6/300\n",
      "86/86 [==============================] - 19s 219ms/step - loss: 0.3496 - accuracy: 0.8673 - val_loss: 0.4264 - val_accuracy: 0.8464\n",
      "Epoch 7/300\n",
      "86/86 [==============================] - 19s 225ms/step - loss: 0.3247 - accuracy: 0.8749 - val_loss: 0.3951 - val_accuracy: 0.8702\n",
      "Epoch 8/300\n",
      "86/86 [==============================] - 19s 224ms/step - loss: 0.2942 - accuracy: 0.8913 - val_loss: 0.3780 - val_accuracy: 0.8867\n",
      "Epoch 9/300\n",
      "86/86 [==============================] - 20s 225ms/step - loss: 0.2751 - accuracy: 0.8982 - val_loss: 0.4020 - val_accuracy: 0.8757\n",
      "Epoch 10/300\n",
      "86/86 [==============================] - 20s 228ms/step - loss: 0.2701 - accuracy: 0.8938 - val_loss: 0.3613 - val_accuracy: 0.8830\n",
      "Epoch 11/300\n",
      "86/86 [==============================] - 20s 226ms/step - loss: 0.2458 - accuracy: 0.9105 - val_loss: 0.3774 - val_accuracy: 0.8812\n",
      "Epoch 12/300\n",
      "86/86 [==============================] - 20s 229ms/step - loss: 0.2082 - accuracy: 0.9236 - val_loss: 0.4593 - val_accuracy: 0.8665\n",
      "Epoch 13/300\n",
      "86/86 [==============================] - 20s 232ms/step - loss: 0.2029 - accuracy: 0.9222 - val_loss: 0.3557 - val_accuracy: 0.8976\n",
      "Epoch 14/300\n",
      "86/86 [==============================] - 20s 228ms/step - loss: 0.1853 - accuracy: 0.9291 - val_loss: 0.3704 - val_accuracy: 0.8775\n",
      "Epoch 15/300\n",
      "86/86 [==============================] - 20s 230ms/step - loss: 0.1684 - accuracy: 0.9353 - val_loss: 0.3752 - val_accuracy: 0.8757\n",
      "Epoch 16/300\n",
      "86/86 [==============================] - 20s 234ms/step - loss: 0.1528 - accuracy: 0.9465 - val_loss: 0.3707 - val_accuracy: 0.8921\n",
      "Epoch 17/300\n",
      "86/86 [==============================] - 20s 234ms/step - loss: 0.1447 - accuracy: 0.9491 - val_loss: 0.3854 - val_accuracy: 0.8830\n",
      "Epoch 18/300\n",
      "86/86 [==============================] - 21s 237ms/step - loss: 0.1501 - accuracy: 0.9451 - val_loss: 0.3411 - val_accuracy: 0.8940\n",
      "Epoch 19/300\n",
      "86/86 [==============================] - 21s 240ms/step - loss: 0.1221 - accuracy: 0.9618 - val_loss: 0.4100 - val_accuracy: 0.8867\n",
      "Epoch 20/300\n",
      "86/86 [==============================] - 20s 234ms/step - loss: 0.1151 - accuracy: 0.9567 - val_loss: 0.4270 - val_accuracy: 0.8720\n",
      "Epoch 21/300\n",
      "86/86 [==============================] - 21s 244ms/step - loss: 0.1063 - accuracy: 0.9658 - val_loss: 0.3755 - val_accuracy: 0.8885\n",
      "Epoch 22/300\n",
      "86/86 [==============================] - 20s 235ms/step - loss: 0.0954 - accuracy: 0.9658 - val_loss: 0.4469 - val_accuracy: 0.8867\n",
      "Epoch 23/300\n",
      "86/86 [==============================] - 20s 234ms/step - loss: 0.0943 - accuracy: 0.9665 - val_loss: 0.3688 - val_accuracy: 0.8940\n"
     ]
    }
   ],
   "source": [
    "optimizer = tf.keras.optimizers.Adam(learning_rate= 1e-5)\n",
    "model.compile(optimizer=optimizer, loss='sparse_categorical_crossentropy', metrics=['accuracy'])\n",
    "early_stopping_cb = tf.keras.callbacks.EarlyStopping(monitor=\"val_accuracy\", patience=10, restore_best_weights=True)\n",
    "history = model.fit(train_generator, validation_data=val_generator, epochs=300, callbacks=[early_stopping_cb], class_weight=class_weights)"
   ]
  },
  {
   "cell_type": "code",
   "execution_count": 19,
   "metadata": {
    "colab": {
     "base_uri": "https://localhost:8080/",
     "height": 373
    },
    "id": "0CXfADeXZT8U",
    "outputId": "8df149d8-08af-4ac3-d42b-61af784b1a88"
   },
   "outputs": [
    {
     "data": {
      "text/plain": [
       "<matplotlib.legend.Legend at 0x1fdd1866940>"
      ]
     },
     "execution_count": 19,
     "metadata": {},
     "output_type": "execute_result"
    },
    {
     "data": {
      "image/png": "[encoded data removed]",
      "text/plain": [
       "<Figure size 800x500 with 1 Axes>"
      ]
     },
     "metadata": {},
     "output_type": "display_data"
    }
   ],
   "source": [
    "# Plot the learning curves\n",
    "N = np.arange(0, len(history.history['loss']))\n",
    "plt.figure(figsize=(8, 5))\n",
    "plt.gca().set_ylim(0.3, 1.0)\n",
    "plt.plot(N, history.history[\"accuracy\"], label=\"train_acc\")\n",
    "plt.plot(N, history.history[\"val_accuracy\"], label=\"val_acc\")\n",
    "plt.xlabel(\"Epochs\")\n",
    "plt.ylabel(\"Accuracy\")\n",
    "plt.title(\"Accuracy vs Epochs for model with vgg16 bottom layers unfrozen\")\n",
    "plt.legend()"
   ]
  },
  {
   "cell_type": "code",
   "execution_count": 20,
   "metadata": {
    "colab": {
     "base_uri": "https://localhost:8080/"
    },
    "id": "-LjmY2oi1-g1",
    "outputId": "397ae94f-0956-4f72-8a2e-a220204050b1"
   },
   "outputs": [
    {
     "name": "stdout",
     "output_type": "stream",
     "text": [
      "test_loss:  0.3730855882167816\n",
      "Test accuracy: 0.8713136911392212\n"
     ]
    }
   ],
   "source": [
    "# Evaluate with the model with all VGG16 layers unfrozen for best hyperparameters \n",
    "test_loss,test_accuracy = model.evaluate_generator(test_generator)\n",
    "print('test_loss: ', test_loss)\n",
    "print('Test accuracy:', test_accuracy)"
   ]
  },
  {
   "cell_type": "code",
   "execution_count": 21,
   "metadata": {
    "colab": {
     "base_uri": "https://localhost:8080/"
    },
    "id": "a6eO6Pxi-Fjc",
    "outputId": "43da06ae-ffef-40bc-c362-655bc16843d8"
   },
   "outputs": [
    {
     "name": "stderr",
     "output_type": "stream",
     "text": [
      "WARNING:absl:Found untraced functions such as _jit_compiled_convolution_op, _jit_compiled_convolution_op, _jit_compiled_convolution_op, _jit_compiled_convolution_op, _jit_compiled_convolution_op while saving (showing 5 of 13). These functions will not be directly callable after loading.\n"
     ]
    },
    {
     "name": "stdout",
     "output_type": "stream",
     "text": [
      "INFO:tensorflow:Assets written to: image_classification_model\\001\\assets\n"
     ]
    },
    {
     "name": "stderr",
     "output_type": "stream",
     "text": [
      "INFO:tensorflow:Assets written to: image_classification_model\\001\\assets\n"
     ]
    }
   ],
   "source": [
    "model_version = \"001\"\n",
    "model_name = \"image_classification_model\"\n",
    "model_path = os.path.join(model_name, model_version)\n",
    "tf.saved_model.save(model, model_path)"
   ]
  },
  {
   "cell_type": "code",
   "execution_count": 22,
   "metadata": {
    "colab": {
     "base_uri": "https://localhost:8080/"
    },
    "id": "ijha_RcYI4YT",
    "outputId": "8dcf979f-224d-42da-e16e-8a3e4c6f0c28"
   },
   "outputs": [
    {
     "name": "stdout",
     "output_type": "stream",
     "text": [
      "Confusion Matrix for clf6 Model\n"
     ]
    },
    {
     "data": {
      "text/plain": [
       "array([[55,  1,  2,  1,  6],\n",
       "       [ 3, 79,  1,  7,  1],\n",
       "       [ 0,  0, 63,  0,  2],\n",
       "       [ 0,  0,  1, 68,  2],\n",
       "       [ 3,  1, 15,  2, 60]], dtype=int64)"
      ]
     },
     "execution_count": 22,
     "metadata": {},
     "output_type": "execute_result"
    }
   ],
   "source": [
    "# Confusion matrix\n",
    "\n",
    "test_predictions = model.predict_generator(test_generator)\n",
    "test_predicts = np.argmax(test_predictions, axis=-1)\n",
    "test_trues = test_generator.classes\n",
    "print(\"Confusion Matrix for clf6 Model\")\n",
    "cm = confusion_matrix(test_trues, test_predicts)\n",
    "cm"
   ]
  },
  {
   "cell_type": "code",
   "execution_count": 23,
   "metadata": {
    "colab": {
     "base_uri": "https://localhost:8080/"
    },
    "id": "lRolVkI-OiJL",
    "outputId": "26d1ef61-4188-4dc8-a5a6-a3b60cafa53c"
   },
   "outputs": [
    {
     "name": "stdout",
     "output_type": "stream",
     "text": [
      "['daisy' 'dandelion' 'roses' 'sunflowers' 'tulips']\n",
      "[0.90163934 0.97530864 0.76829268 0.87179487 0.84507042]\n"
     ]
    }
   ],
   "source": [
    "# Precision score \n",
    "class_names = np.array(list(val_generator.class_indices.keys()))\n",
    "print(class_names)\n",
    "precision = precision_score(test_trues, test_predicts,labels=[0, 1, 2, 3, 4],average=None)\n",
    "print(precision)"
   ]
  },
  {
   "cell_type": "code",
   "execution_count": 24,
   "metadata": {
    "colab": {
     "base_uri": "https://localhost:8080/"
    },
    "id": "ILgBULeaWY_f",
    "outputId": "69b2cdc0-8e74-4ce6-e0d2-33b8896c88cb"
   },
   "outputs": [
    {
     "name": "stdout",
     "output_type": "stream",
     "text": [
      "['daisy' 'dandelion' 'roses' 'sunflowers' 'tulips']\n",
      "[0.84615385 0.86813187 0.96923077 0.95774648 0.74074074]\n"
     ]
    }
   ],
   "source": [
    "#Recall score \n",
    "print(class_names)\n",
    "recall = recall_score(test_trues, test_predicts,labels=[0, 1, 2, 3, 4],average=None)\n",
    "print(recall)"
   ]
  },
  {
   "cell_type": "code",
   "execution_count": 25,
   "metadata": {
    "colab": {
     "base_uri": "https://localhost:8080/"
    },
    "id": "HRW5fWykXpn0",
    "outputId": "dd0610f4-0d48-4699-c0c5-7d83e9d25ac0"
   },
   "outputs": [
    {
     "name": "stdout",
     "output_type": "stream",
     "text": [
      "Accuracy Score: 0.871313672922252\n"
     ]
    }
   ],
   "source": [
    "# Accuracy Score for clf6 model\n",
    "accuracy = accuracy_score(test_trues, test_predicts)\n",
    "print('Accuracy Score:',accuracy)"
   ]
  },
  {
   "cell_type": "code",
   "execution_count": 26,
   "metadata": {},
   "outputs": [
    {
     "data": {
      "text/plain": [
       "0.8764007406260929"
      ]
     },
     "execution_count": 26,
     "metadata": {},
     "output_type": "execute_result"
    }
   ],
   "source": [
    "np.average(recall)"
   ]
  },
  {
   "cell_type": "code",
   "execution_count": 27,
   "metadata": {},
   "outputs": [
    {
     "data": {
      "text/plain": [
       "0.8724211926989032"
      ]
     },
     "execution_count": 27,
     "metadata": {},
     "output_type": "execute_result"
    }
   ],
   "source": [
    "np.average(precision)"
   ]
  },
  {
   "cell_type": "markdown",
   "metadata": {
    "id": "Mgme4ECvQ72D"
   },
   "source": [
    "**Summary**"
   ]
  },
  {
   "cell_type": "markdown",
   "metadata": {
    "id": "-xSaq26_RBTs"
   },
   "source": [
    "The best accuracy of 87.1% was achieved with all bottom layers of the VGG16 unfrozen using hyperparameters of learning rate = 1e-5 and dropout = 0.2 with one fully connected top layer having 384 neurons. Average precision = 87.2% and average recall = 87.6%\n",
    "\n",
    "\n",
    "\n",
    "\n",
    "\n",
    "\n",
    "\n"
   ]
  }
 ],
 "metadata": {
  "accelerator": "GPU",
  "colab": {
   "collapsed_sections": [],
   "name": "Image_Classification_Gary_Sampson.ipynb",
   "provenance": []
  },
  "kernelspec": {
   "display_name": "Python 3 (ipykernel)",
   "language": "python",
   "name": "python3"
  },
  "language_info": {
   "codemirror_mode": {
    "name": "ipython",
    "version": 3
   },
   "file_extension": ".py",
   "mimetype": "text/x-python",
   "name": "python",
   "nbconvert_exporter": "python",
   "pygments_lexer": "ipython3",
   "version": "3.9.13"
  }
 },
 "nbformat": 4,
 "nbformat_minor": 1
}
